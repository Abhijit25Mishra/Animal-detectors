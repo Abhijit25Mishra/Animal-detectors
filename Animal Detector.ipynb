{
  "nbformat": 4,
  "nbformat_minor": 0,
  "metadata": {
    "colab": {
      "name": "Helloworld.ipynb",
      "provenance": [],
      "collapsed_sections": []
    },
    "kernelspec": {
      "name": "python3",
      "display_name": "Python 3"
    },
    "language_info": {
      "name": "python"
    },
    "accelerator": "GPU"
  },
  "cells": [
    {
      "cell_type": "code",
      "metadata": {
        "id": "qDYgzgwR9Vwc"
      },
      "source": [
        "!pip install -q jmd_imagescraper\n",
        "!pip install -Uqq fastbook\n",
        "\n",
        "import fastbook  #import the fast.ai library\n",
        "from fastbook import *  \n",
        "fastbook.setup_book()\n",
        "from fastai.vision.widgets import *\n",
        "\n",
        "#import the image scraper by @JoeDockrill, website: https://joedockrill.github.io/blog/2020/09/18/jmd-imagescraper-library/\n",
        "\n",
        "from jmd_imagescraper.core import * \n",
        "from pathlib import Path\n",
        "from jmd_imagescraper.imagecleaner import *"
      ],
      "execution_count": null,
      "outputs": []
    },
    {
      "cell_type": "code",
      "metadata": {
        "id": "6ATgEBP6-3jh"
      },
      "source": [
        "animals=['frog','bird','dog','cat','bear','human']\n",
        "path = Path().cwd()/\"animals\"#assigns path to current working directory"
      ],
      "execution_count": null,
      "outputs": []
    },
    {
      "cell_type": "code",
      "metadata": {
        "id": "neG729TV-5jv"
      },
      "source": [
        "duckduckgo_search(path,\"frog\",\"frogs\",max_results=50)  #downloads 100 images of 'frogs' and saves it in path/cat\n",
        "duckduckgo_search(path,\"bird\",\"birds\",max_results=50)  #downloads 100 images of 'birds' and saves it in path/dog\n",
        "duckduckgo_search(path,\"dog\",\"dogs\",max_results=50)    #downloads 100 images of 'dogs' and saves it in path/dog\n",
        "duckduckgo_search(path,\"cat\",\"cats\",max_results=50)    #downloads 100 images of 'cats' and saves it in path/dog\n",
        "duckduckgo_search(path,\"bear\",\"bears\",max_results=50)  #downloads 100 images of 'bears' and saves it in path/dog\n",
        "duckduckgo_search(path,\"human\",\"humans\",max_results=50)#downloads 100 images of 'humans' and saves it in path/dog"
      ],
      "execution_count": null,
      "outputs": []
    },
    {
      "cell_type": "code",
      "metadata": {
        "id": "UiB3aUKuAhjG"
      },
      "source": [
        "display_image_cleaner(path)"
      ],
      "execution_count": null,
      "outputs": []
    },
    {
      "cell_type": "code",
      "metadata": {
        "id": "5qmOUPFRBmNp"
      },
      "source": [
        "fns=get_image_files(path)\n",
        "fns"
      ],
      "execution_count": null,
      "outputs": []
    },
    {
      "cell_type": "code",
      "metadata": {
        "id": "YJ7vvjckBnd9"
      },
      "source": [
        "failed=verify_images(fns)#looks for files that arent images\n",
        "failed"
      ],
      "execution_count": null,
      "outputs": []
    },
    {
      "cell_type": "code",
      "metadata": {
        "id": "FCCszitPoo0b"
      },
      "source": [
        "path.ls\n"
      ],
      "execution_count": null,
      "outputs": []
    },
    {
      "cell_type": "code",
      "metadata": {
        "id": "RRnL5HsGBy9H"
      },
      "source": [
        "animals=DataBlock(\n",
        "  blocks=(ImageBlock,CategoryBlock),\n",
        "    get_items=get_image_files,\n",
        "    splitter=RandomSplitter(valid_pct=0.2,seed=42),#splits the dataset into a training set and validation set\n",
        "    get_y=parent_label,\n",
        "    item_tfms=RandomResizedCrop(224, min_scale=0.5),\n",
        "    batch_tfms=aug_transforms())"
      ],
      "execution_count": null,
      "outputs": []
    },
    {
      "cell_type": "code",
      "metadata": {
        "id": "rrQqt2DACEj8"
      },
      "source": [
        "dls=animals.dataloaders(path)"
      ],
      "execution_count": null,
      "outputs": []
    },
    {
      "cell_type": "code",
      "metadata": {
        "id": "XV38wD0cClAC"
      },
      "source": [
        "dls.valid.show_batch(max_n=6,nrows=3)"
      ],
      "execution_count": null,
      "outputs": []
    },
    {
      "cell_type": "code",
      "metadata": {
        "id": "dknC9ZnPCsib"
      },
      "source": [
        "learn = cnn_learner(dls, resnet18, metrics=error_rate)#training our model\n",
        "learn.fine_tune(3)"
      ],
      "execution_count": null,
      "outputs": []
    },
    {
      "cell_type": "code",
      "metadata": {
        "id": "wIzGgq-IDasB"
      },
      "source": [
        "interp = ClassificationInterpretation.from_learner(learn)\n",
        "interp.plot_confusion_matrix()#plots a confusion matrix"
      ],
      "execution_count": null,
      "outputs": []
    },
    {
      "cell_type": "code",
      "metadata": {
        "id": "t5zwTjVkDbdT"
      },
      "source": [
        "interp.plot_top_losses(20, nrows=4)"
      ],
      "execution_count": null,
      "outputs": []
    },
    {
      "cell_type": "code",
      "metadata": {
        "id": "w8K5pt9WEFZW"
      },
      "source": [
        "cleaner=ImageClassifierCleaner(learn)\n",
        "cleaner"
      ],
      "execution_count": null,
      "outputs": []
    },
    {
      "cell_type": "code",
      "metadata": {
        "id": "HddVn2JaF2NA"
      },
      "source": [
        "# for idx in cleaner.delete(): cleaner.fns[idx].unlink()\n",
        "# for idx,cat in cleaner.change(): shutil.move(str(cleaner.fns[idx]), path/cwd) "
      ],
      "execution_count": null,
      "outputs": []
    },
    {
      "cell_type": "code",
      "metadata": {
        "id": "DjI0F233DixC"
      },
      "source": [
        "learn.export()\n",
        "path = Path()\n",
        "path.ls(file_exts='.pkl')\n",
        "\n",
        "learn_inf = load_learner(path/'export.pkl')\n",
        "\n",
        "learn_inf.dls.vocab"
      ],
      "execution_count": null,
      "outputs": []
    },
    {
      "cell_type": "code",
      "metadata": {
        "id": "SZrhEP8XHY0c"
      },
      "source": [
        "btn_upload = widgets.FileUpload()#Displays a widget which can be used to upload images from your system\n",
        "btn_upload"
      ],
      "execution_count": null,
      "outputs": []
    },
    {
      "cell_type": "code",
      "metadata": {
        "id": "z8hL1tYXDq9Q"
      },
      "source": [
        "img = PILImage.create(btn_upload.data[-1])\n",
        "\n",
        "out_pl = widgets.Output()\n",
        "out_pl.clear_output()\n",
        "with out_pl: display(img.to_thumb(128,128))#resizes the uploaded image\n",
        "out_pl"
      ],
      "execution_count": null,
      "outputs": []
    },
    {
      "cell_type": "code",
      "metadata": {
        "id": "1bq8kE4bDuJW"
      },
      "source": [
        "pred,pred_idx,probs = learn_inf.predict(img)#asks the model to predict the animal in the image!\n",
        "lbl_pred = widgets.Label()\n",
        "lbl_pred.value = f'Prediction: {pred}; Probability: {probs[pred_idx]:.04f}'#displays the output in a readable format\n",
        "lbl_pred"
      ],
      "execution_count": null,
      "outputs": []
    },
    {
      "cell_type": "code",
      "metadata": {
        "id": "e07g-8QBHttC"
      },
      "source": [
        "btn_run = widgets.Button(description='Classify')\n",
        "btn_run"
      ],
      "execution_count": null,
      "outputs": []
    },
    {
      "cell_type": "code",
      "metadata": {
        "id": "ipPsAf_kK2JQ"
      },
      "source": [
        "def on_click_classify(change):\n",
        "    img = PILImage.create(btn_upload.data[-1])\n",
        "    out_pl.clear_output()\n",
        "    with out_pl: display(img.to_thumb(128,128))\n",
        "    pred,pred_idx,probs = learn_inf.predict(img)\n",
        "    lbl_pred.value = f'Prediction: {pred}; Probability: {probs[pred_idx]:.04f}'\n",
        "\n",
        "btn_run.on_click(on_click_classify)"
      ],
      "execution_count": null,
      "outputs": []
    },
    {
      "cell_type": "code",
      "metadata": {
        "id": "rhGE82_sM7Ak"
      },
      "source": [
        "btn_upload=widgets.FileUpload()"
      ],
      "execution_count": null,
      "outputs": []
    },
    {
      "cell_type": "code",
      "metadata": {
        "id": "WYvZaI_eNEVs"
      },
      "source": [
        "#hide_output\n",
        "VBox([widgets.Label('Select an Image'), \n",
        "      btn_upload, btn_run, out_pl, lbl_pred])"
      ],
      "execution_count": null,
      "outputs": []
    },
    {
      "cell_type": "code",
      "metadata": {
        "id": "cKByBkQcr6vI"
      },
      "source": [
        ""
      ],
      "execution_count": null,
      "outputs": []
    }
  ]
}